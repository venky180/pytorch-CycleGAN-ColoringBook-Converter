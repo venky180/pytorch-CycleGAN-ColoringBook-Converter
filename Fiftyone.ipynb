{
 "cells": [
  {
   "cell_type": "code",
   "execution_count": 13,
   "id": "006f210f",
   "metadata": {
    "execution": {
     "iopub.execute_input": "2023-06-04T16:34:04.742231Z",
     "iopub.status.busy": "2023-06-04T16:34:04.741883Z",
     "iopub.status.idle": "2023-06-04T16:45:48.886575Z",
     "shell.execute_reply": "2023-06-04T16:45:48.885651Z",
     "shell.execute_reply.started": "2023-06-04T16:34:04.742203Z"
    }
   },
   "outputs": [
    {
     "name": "stdout",
     "output_type": "stream",
     "text": [
      "Downloading split 'validation' to '/home/ubuntu/fiftyone/open-images-v7/validation' if necessary\n",
      "Necessary images already downloaded\n",
      "Existing download of split 'validation' is sufficient\n",
      "Loading 'open-images-v7' split 'validation'\n",
      " 100% |█████████████| 10000/10000 [11.6m elapsed, 0s remaining, 16.6 samples/s]      \n",
      "Dataset 'open-images-sketch' created\n"
     ]
    }
   ],
   "source": [
    "import fiftyone as fo\n",
    "import fiftyone.zoo as foz\n",
    "\n",
    "#\n",
    "# Load 50 random samples from the validation split of Open Images V7.\n",
    "#\n",
    "# Only the required images will be downloaded (if necessary).\n",
    "# By default, all label types are loaded\n",
    "#\n",
    "\n",
    "dataset2 = foz.load_zoo_dataset(\n",
    "    \"open-images-v7\",\n",
    "    split=\"validation\",\n",
    "    max_samples=10000,\n",
    "    seed=51,\n",
    "    shuffle=True,\n",
    "    dataset_name=\"open-images-sketch\",\n",
    ")\n"
   ]
  },
  {
   "cell_type": "code",
   "execution_count": 14,
   "id": "b47c5ab7",
   "metadata": {
    "execution": {
     "iopub.execute_input": "2023-06-04T16:45:48.913657Z",
     "iopub.status.busy": "2023-06-04T16:45:48.913343Z",
     "iopub.status.idle": "2023-06-04T16:45:49.012562Z",
     "shell.execute_reply": "2023-06-04T16:45:49.011649Z",
     "shell.execute_reply.started": "2023-06-04T16:45:48.913632Z"
    }
   },
   "outputs": [],
   "source": [
    "dataset2.persistent = True"
   ]
  },
  {
   "cell_type": "code",
   "execution_count": 15,
   "id": "6089609b",
   "metadata": {
    "execution": {
     "iopub.execute_input": "2023-06-04T16:45:49.014466Z",
     "iopub.status.busy": "2023-06-04T16:45:49.014194Z",
     "iopub.status.idle": "2023-06-04T16:48:21.408928Z",
     "shell.execute_reply": "2023-06-04T16:48:21.408065Z",
     "shell.execute_reply.started": "2023-06-04T16:45:49.014440Z"
    },
    "scrolled": true
   },
   "outputs": [
    {
     "name": "stdout",
     "output_type": "stream",
     "text": [
      "Computing embeddings...\n",
      " 100% |█████████████| 10000/10000 [2.1m elapsed, 0s remaining, 68.4 samples/s]      \n"
     ]
    },
    {
     "data": {
      "text/plain": [
       "<fiftyone.brain.internal.core.sklearn.SklearnSimilarityIndex at 0x7fbc52ab60b0>"
      ]
     },
     "execution_count": 15,
     "metadata": {},
     "output_type": "execute_result"
    }
   ],
   "source": [
    "import fiftyone.brain as fob\n",
    "# Index images by similarity\n",
    "fob.compute_similarity(\n",
    "    dataset2,\n",
    "    model=\"clip-vit-base32-torch\",\n",
    "    brain_key=\"img_sim\",\n",
    ")\n"
   ]
  },
  {
   "cell_type": "code",
   "execution_count": 9,
   "id": "1a862f99-5fe3-4c3a-9d75-5880f339a8ad",
   "metadata": {
    "execution": {
     "iopub.execute_input": "2023-06-04T16:32:08.071683Z",
     "iopub.status.busy": "2023-06-04T16:32:08.070881Z",
     "iopub.status.idle": "2023-06-04T16:32:08.076912Z",
     "shell.execute_reply": "2023-06-04T16:32:08.075969Z",
     "shell.execute_reply.started": "2023-06-04T16:32:08.071656Z"
    }
   },
   "outputs": [
    {
     "name": "stdout",
     "output_type": "stream",
     "text": [
      "['custom', 'elephants', 'imagenet-sketch1', 'museums', 'open-images-sketch', 'open-images-sketches', 'open-images-sketches-sim']\n"
     ]
    }
   ],
   "source": [
    "print(fo.list_datasets())"
   ]
  },
  {
   "cell_type": "code",
   "execution_count": 12,
   "id": "e1d5a870",
   "metadata": {
    "execution": {
     "iopub.execute_input": "2023-06-04T16:34:01.015312Z",
     "iopub.status.busy": "2023-06-04T16:34:01.014963Z",
     "iopub.status.idle": "2023-06-04T16:34:01.031991Z",
     "shell.execute_reply": "2023-06-04T16:34:01.031205Z",
     "shell.execute_reply.started": "2023-06-04T16:34:01.015285Z"
    }
   },
   "outputs": [
    {
     "name": "stdout",
     "output_type": "stream",
     "text": [
      "['custom', 'elephants', 'imagenet-sketch1', 'museums']\n"
     ]
    }
   ],
   "source": [
    "x=fo.load_dataset('open-images-sketches-sim')\n",
    "x.delete()\n",
    "print(fo.list_datasets())"
   ]
  }
 ],
 "metadata": {
  "kernelspec": {
   "display_name": "Python 3 (ipykernel)",
   "language": "python",
   "name": "python3"
  },
  "language_info": {
   "codemirror_mode": {
    "name": "ipython",
    "version": 3
   },
   "file_extension": ".py",
   "mimetype": "text/x-python",
   "name": "python",
   "nbconvert_exporter": "python",
   "pygments_lexer": "ipython3",
   "version": "3.10.11"
  }
 },
 "nbformat": 4,
 "nbformat_minor": 5
}
